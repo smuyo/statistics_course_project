{
 "cells": [
  {
   "cell_type": "markdown",
   "id": "f7446ce3",
   "metadata": {},
   "source": [
    "Sergi Muyo Abad         \n",
    "\n",
    "Student number: 222738"
   ]
  },
  {
   "cell_type": "markdown",
   "id": "b106979c",
   "metadata": {},
   "source": [
    "# Introduction\n",
    "\n",
    "In this project I will analyse a set of pH measurements. This measurements were taken in an experiment over the course of 3 days.\n",
    "\n",
    "The main aim of the project is to check whether the measurements vary between the different sampling tiems or are instead what we would expect from a stable culture.\n",
    "\n",
    "To do this I created a bayesian model thet can simulate more measurements, and calculate the expected real pH values of the sample by removing all the noise."
   ]
  },
  {
   "cell_type": "markdown",
   "id": "ea9869b8",
   "metadata": {},
   "source": [
    "# Code\n",
    "\n",
    "First I import all the packages I will need."
   ]
  },
  {
   "cell_type": "code",
   "execution_count": 1,
   "id": "c6c1cd03",
   "metadata": {},
   "outputs": [
    {
     "name": "stderr",
     "output_type": "stream",
     "text": [
      "/home/sergi/Documents/statistics_course/.venv/lib/python3.12/site-packages/tqdm/auto.py:21: TqdmWarning: IProgress not found. Please update jupyter and ipywidgets. See https://ipywidgets.readthedocs.io/en/stable/user_install.html\n",
      "  from .autonotebook import tqdm as notebook_tqdm\n"
     ]
    }
   ],
   "source": [
    "import numpy as np\n",
    "import pandas as pd\n",
    "from cmdstanpy import CmdStanModel\n",
    "import matplotlib.pyplot as plt\n",
    "import arviz as az\n",
    "from stanio.json import process_dictionary"
   ]
  },
  {
   "cell_type": "markdown",
   "id": "6fb2b191",
   "metadata": {},
   "source": [
    "Now I input some data for the simulations. This data comprises of:\n",
    "- num_samples: The number of pH measurments I have\n",
    "- measurements: The measured pH values\n",
    "- neutral: Neutral pH. We would expect the samples to have a pH similar to this\n",
    "- num_calibration: The number of calibration samples I have\n",
    "- cali_meas: The measured pH of the calibration samples\n",
    "- cali_real: The true pH of the calibration samples\n"
   ]
  },
  {
   "cell_type": "code",
   "execution_count": 2,
   "id": "cdaab1b8",
   "metadata": {},
   "outputs": [],
   "source": [
    "num_samples = 52\n",
    "measurements = [\n",
    "    6.55, 6.55, 6.96, 7.01, \n",
    "    6.92, 6.92, 6.94, 7.00, \n",
    "    6.91, 7.05, 6.98, 7, \n",
    "    6.91, 6.97, 6.92, 6.96, \n",
    "    7.00, 6.94, 6.88, 6.91, \n",
    "    6.89, 6.88, 6.92, 6.92, \n",
    "    6.92, 6.91, 6.90, 6.99, \n",
    "    6.96, 7.01, 6.9, 6.95, \n",
    "    6.89, 6.9, 6.89, 6.95, \n",
    "    6.88, 6.90, 6.93, 6.96, \n",
    "    6.94, 6.93, 6.94, 6.88, \n",
    "    6.88, 6.9, 6.86, 6.91, \n",
    "    6.88, 6.99, 6.92, 6.88\n",
    "    ]\n",
    "neutral = 7.0\n",
    "num_calibration = 3\n",
    "cali_meas = [3.98, 7.01, 9.01]\n",
    "cali_real = [4.00, 7.00, 9.00]"
   ]
  },
  {
   "cell_type": "markdown",
   "id": "11be0c52",
   "metadata": {},
   "source": [
    "# Model"
   ]
  },
  {
   "cell_type": "markdown",
   "id": "1635b42f",
   "metadata": {},
   "source": [
    "Now I load the model and input the prior data."
   ]
  },
  {
   "cell_type": "code",
   "execution_count": 15,
   "id": "92468c68",
   "metadata": {},
   "outputs": [
    {
     "name": "stderr",
     "output_type": "stream",
     "text": [
      "15:15:23 - cmdstanpy - INFO - compiling stan file /home/sergi/Documents/statistics_course_project/pH_v2.stan to exe file /home/sergi/Documents/statistics_course_project/pH_v2\n",
      "15:15:45 - cmdstanpy - INFO - compiled model executable: /home/sergi/Documents/statistics_course_project/pH_v2\n"
     ]
    }
   ],
   "source": [
    "model = CmdStanModel(stan_file=\"pH_v2.stan\")\n",
    "\n",
    "prior_data = process_dictionary({\n",
    "        \"N\": num_samples,\n",
    "        \"measurements\" : measurements,\n",
    "        \"ave\": neutral,\n",
    "        \"N_calibration_measurement\": num_calibration,\n",
    "        \"calibration_measurements\": cali_meas,\n",
    "        \"calibration_ph\": cali_real\n",
    "    }\n",
    ")"
   ]
  },
  {
   "cell_type": "markdown",
   "id": "577a814c",
   "metadata": {},
   "source": [
    "My model produces the measurement values with the following model:\n",
    "\n",
    "    measurement ~ N(pH + bias, curr_err + biological_noise)\n",
    "\n",
    "The parameters of the linear model are:\n",
    "- measurement: The measured pH value.\n",
    "- pH: The real pH value. For the samples it is assumed to be 7.0 (see variable \"neutral\")\n",
    "- bias. the calibration error. This calibration error is calculated using the calibration measurements, assuming that those measurements come from a normal distribution centered at the true pH of the calibration media, with a standard deviation equal to the calibration noise.\n",
    "- curr_err: The pH meter accuracy. This is calculated from a normal distribution centered at 0.01 and with a standard deviation of 0.1\n",
    "- biological_noise: This parameter accounts for biological noise. It is calculated from a lognormal distribution centered at 0.05, with a standard deviation of 0.1."
   ]
  },
  {
   "cell_type": "code",
   "execution_count": 21,
   "id": "ad35a27f",
   "metadata": {},
   "outputs": [
    {
     "name": "stdout",
     "output_type": "stream",
     "text": [
      "functions {\n",
      "  vector standardise(vector v, real m, real s) {\n",
      "    return (v - m) / s;\n",
      "  }\n",
      "  real standardise(real v, real m, real s) {\n",
      "    return (v - m) / s;\n",
      "  }\n",
      "  vector unstandardise(vector u, real m, real s) {\n",
      "    return m + u * s;\n",
      "  }\n",
      "  real unstandardise(real u, real m, real s) {\n",
      "    return m + u * s;\n",
      "  }\n",
      "}\n",
      "\n",
      "data {\n",
      "    int<lower=1> N;\n",
      "    int<lower=1> N_calibration_measurement;\n",
      "    vector[N] measurements;\n",
      "    vector[N_calibration_measurement] calibration_measurements;\n",
      "    vector[N_calibration_measurement] calibration_ph;\n",
      "    real ave;\n",
      "}\n",
      "\n",
      "transformed data {\n",
      "    vector[N] meas_ls = standardise(log(measurements), mean(log(measurements)), sd(log(measurements)));\n",
      "    real ave_ls = standardise(log(ave), mean(log(measurements)), sd(log(measurements)));\n",
      "}\n",
      "\n",
      "parameters {\n",
      "    real true_ph_ls;\n",
      "    real<lower=0> biological_noise;\n",
      "    real bias;\n",
      "    real curr_err;\n",
      "}\n",
      "\n",
      "model {\n",
      "    curr_err ~ lognormal(log(0.01), 0.1);\n",
      "    biological_noise ~ lognormal(log(0.05), 0.1);\n",
      "    meas_ls ~ normal(true_ph_ls + bias, curr_err + biological_noise);\n",
      "    calibration_measurements ~ normal(calibration_ph + bias, curr_err);\n",
      "}\n",
      "\n",
      "generated quantities {\n",
      "    real true_ph = exp(unstandardise(true_ph_ls, mean(log(measurements)), sd(log(measurements))));\n",
      "    real yrep = exp(unstandardise(normal_rng(true_ph_ls + bias, curr_err + biological_noise), mean(log(measurements)), sd(log(measurements))));\n",
      "}\n"
     ]
    }
   ],
   "source": [
    "print(model.code())"
   ]
  },
  {
   "cell_type": "code",
   "execution_count": 16,
   "id": "eb543e3b",
   "metadata": {},
   "outputs": [
    {
     "name": "stderr",
     "output_type": "stream",
     "text": [
      "15:15:45 - cmdstanpy - INFO - CmdStan start processing\n",
      "chain 1 |\u001b[33m          \u001b[0m| 00:00 Status\n",
      "\u001b[A\n",
      "\n",
      "\u001b[A\u001b[A\n",
      "chain 1 |\u001b[34m██████████\u001b[0m| 00:00 Sampling completed\n",
      "chain 2 |\u001b[34m██████████\u001b[0m| 00:00 Sampling completed                       \n",
      "chain 3 |\u001b[34m██████████\u001b[0m| 00:00 Sampling completed                       \n",
      "\n",
      "\n",
      "chain 4 |\u001b[34m██████████\u001b[0m| 00:00 Sampling completed"
     ]
    },
    {
     "name": "stdout",
     "output_type": "stream",
     "text": [
      "                                                                                                                                                                                                                                                                                                                                "
     ]
    },
    {
     "name": "stderr",
     "output_type": "stream",
     "text": [
      "\n",
      "15:15:45 - cmdstanpy - INFO - CmdStan done processing.\n",
      "15:15:45 - cmdstanpy - WARNING - Non-fatal error during sampling:\n",
      "Exception: lognormal_lpdf: Random variable is -167.891, but must be nonnegative! (in 'pH_v2.stan', line 38, column 4 to column 41)\n",
      "\tException: lognormal_lpdf: Random variable is -167.58, but must be nonnegative! (in 'pH_v2.stan', line 38, column 4 to column 41)\n",
      "\tException: lognormal_lpdf: Random variable is -40.7861, but must be nonnegative! (in 'pH_v2.stan', line 38, column 4 to column 41)\n",
      "\tException: lognormal_lpdf: Random variable is -9.31609, but must be nonnegative! (in 'pH_v2.stan', line 38, column 4 to column 41)\n",
      "\tException: lognormal_lpdf: Random variable is -1.21685, but must be nonnegative! (in 'pH_v2.stan', line 38, column 4 to column 41)\n",
      "\tException: lognormal_lpdf: Random variable is -1.10919, but must be nonnegative! (in 'pH_v2.stan', line 38, column 4 to column 41)\n",
      "\tException: lognormal_lpdf: Random variable is -10770.5, but must be nonnegative! (in 'pH_v2.stan', line 38, column 4 to column 41)\n",
      "\tException: lognormal_lpdf: Random variable is -216.654, but must be nonnegative! (in 'pH_v2.stan', line 38, column 4 to column 41)\n",
      "\tException: lognormal_lpdf: Random variable is -1.06891, but must be nonnegative! (in 'pH_v2.stan', line 38, column 4 to column 41)\n",
      "\tException: lognormal_lpdf: Random variable is -0.380716, but must be nonnegative! (in 'pH_v2.stan', line 38, column 4 to column 41)\n",
      "\tException: lognormal_lpdf: Random variable is -0.0191769, but must be nonnegative! (in 'pH_v2.stan', line 38, column 4 to column 41)\n",
      "\tException: lognormal_lpdf: Random variable is -0.0363496, but must be nonnegative! (in 'pH_v2.stan', line 38, column 4 to column 41)\n",
      "\tException: lognormal_lpdf: Random variable is -0.000499784, but must be nonnegative! (in 'pH_v2.stan', line 38, column 4 to column 41)\n",
      "\tException: lognormal_lpdf: Random variable is -0.00691472, but must be nonnegative! (in 'pH_v2.stan', line 38, column 4 to column 41)\n",
      "\tException: lognormal_lpdf: Random variable is -0.0243999, but must be nonnegative! (in 'pH_v2.stan', line 38, column 4 to column 41)\n",
      "\tException: lognormal_lpdf: Random variable is -0.0106477, but must be nonnegative! (in 'pH_v2.stan', line 38, column 4 to column 41)\n",
      "\tException: lognormal_lpdf: Random variable is -0.112842, but must be nonnegative! (in 'pH_v2.stan', line 38, column 4 to column 41)\n",
      "\tException: lognormal_lpdf: Random variable is -0.00218725, but must be nonnegative! (in 'pH_v2.stan', line 38, column 4 to column 41)\n",
      "\tException: lognormal_lpdf: Random variable is -0.011149, but must be nonnegative! (in 'pH_v2.stan', line 38, column 4 to column 41)\n",
      "\tException: lognormal_lpdf: Random variable is -0.0101455, but must be nonnegative! (in 'pH_v2.stan', line 38, column 4 to column 41)\n",
      "\tException: lognormal_lpdf: Random variable is -0.00293016, but must be nonnegative! (in 'pH_v2.stan', line 38, column 4 to column 41)\n",
      "\tException: lognormal_lpdf: Random variable is -0.0442382, but must be nonnegative! (in 'pH_v2.stan', line 38, column 4 to column 41)\n",
      "\tException: lognormal_lpdf: Random variable is -0.000846787, but must be nonnegative! (in 'pH_v2.stan', line 38, column 4 to column 41)\n",
      "\tException: lognormal_lpdf: Random variable is -0.00325289, but must be nonnegative! (in 'pH_v2.stan', line 38, column 4 to column 41)\n",
      "Exception: lognormal_lpdf: Random variable is -0.342143, but must be nonnegative! (in 'pH_v2.stan', line 38, column 4 to column 41)\n",
      "\tException: lognormal_lpdf: Random variable is -1.64527, but must be nonnegative! (in 'pH_v2.stan', line 38, column 4 to column 41)\n",
      "\tException: lognormal_lpdf: Random variable is -1.07894, but must be nonnegative! (in 'pH_v2.stan', line 38, column 4 to column 41)\n",
      "\tException: lognormal_lpdf: Random variable is -0.749064, but must be nonnegative! (in 'pH_v2.stan', line 38, column 4 to column 41)\n",
      "\tException: lognormal_lpdf: Random variable is -0.497854, but must be nonnegative! (in 'pH_v2.stan', line 38, column 4 to column 41)\n",
      "\tException: lognormal_lpdf: Random variable is -503.875, but must be nonnegative! (in 'pH_v2.stan', line 38, column 4 to column 41)\n",
      "\tException: lognormal_lpdf: Random variable is -501.057, but must be nonnegative! (in 'pH_v2.stan', line 38, column 4 to column 41)\n",
      "\tException: lognormal_lpdf: Random variable is -125.692, but must be nonnegative! (in 'pH_v2.stan', line 38, column 4 to column 41)\n",
      "\tException: lognormal_lpdf: Random variable is -30.8758, but must be nonnegative! (in 'pH_v2.stan', line 38, column 4 to column 41)\n",
      "\tException: lognormal_lpdf: Random variable is -7.42597, but must be nonnegative! (in 'pH_v2.stan', line 38, column 4 to column 41)\n",
      "\tException: lognormal_lpdf: Random variable is -1.53316, but must be nonnegative! (in 'pH_v2.stan', line 38, column 4 to column 41)\n",
      "\tException: lognormal_lpdf: Random variable is -0.206168, but must be nonnegative! (in 'pH_v2.stan', line 38, column 4 to column 41)\n",
      "\tException: lognormal_lpdf: Random variable is -28816.2, but must be nonnegative! (in 'pH_v2.stan', line 38, column 4 to column 41)\n",
      "\tException: lognormal_lpdf: Random variable is -560.357, but must be nonnegative! (in 'pH_v2.stan', line 38, column 4 to column 41)\n",
      "\tException: lognormal_lpdf: Random variable is -4.14755, but must be nonnegative! (in 'pH_v2.stan', line 38, column 4 to column 41)\n",
      "\tException: lognormal_lpdf: Random variable is -0.034538, but must be nonnegative! (in 'pH_v2.stan', line 38, column 4 to column 41)\n",
      "\tException: lognormal_lpdf: Random variable is -0.00183222, but must be nonnegative! (in 'pH_v2.stan', line 38, column 4 to column 41)\n",
      "\tException: lognormal_lpdf: Random variable is -0.00276262, but must be nonnegative! (in 'pH_v2.stan', line 38, column 4 to column 41)\n",
      "\tException: lognormal_lpdf: Random variable is -0.0137722, but must be nonnegative! (in 'pH_v2.stan', line 38, column 4 to column 41)\n",
      "\tException: lognormal_lpdf: Random variable is -0.0122653, but must be nonnegative! (in 'pH_v2.stan', line 38, column 4 to column 41)\n",
      "\tException: lognormal_lpdf: Random variable is -0.000695929, but must be nonnegative! (in 'pH_v2.stan', line 38, column 4 to column 41)\n",
      "\tException: lognormal_lpdf: Random variable is -0.00146665, but must be nonnegative! (in 'pH_v2.stan', line 38, column 4 to column 41)\n",
      "\tException: lognormal_lpdf: Random variable is -0.00387812, but must be nonnegative! (in 'pH_v2.stan', line 38, column 4 to column 41)\n",
      "\tException: lognormal_lpdf: Random variable is -0.00123648, but must be nonnegative! (in 'pH_v2.stan', line 38, column 4 to column 41)\n",
      "\tException: lognormal_lpdf: Random variable is -0.00907682, but must be nonnegative! (in 'pH_v2.stan', line 38, column 4 to column 41)\n",
      "Exception: lognormal_lpdf: Random variable is -159.513, but must be nonnegative! (in 'pH_v2.stan', line 38, column 4 to column 41)\n",
      "\tException: lognormal_lpdf: Random variable is -160.003, but must be nonnegative! (in 'pH_v2.stan', line 38, column 4 to column 41)\n",
      "\tException: lognormal_lpdf: Random variable is -38.8646, but must be nonnegative! (in 'pH_v2.stan', line 38, column 4 to column 41)\n",
      "\tException: lognormal_lpdf: Random variable is -8.37587, but must be nonnegative! (in 'pH_v2.stan', line 38, column 4 to column 41)\n",
      "\tException: lognormal_lpdf: Random variable is -0.700637, but must be nonnegative! (in 'pH_v2.stan', line 38, column 4 to column 41)\n",
      "\tException: lognormal_lpdf: Random variable is -19648.3, but must be nonnegative! (in 'pH_v2.stan', line 38, column 4 to column 41)\n",
      "\tException: lognormal_lpdf: Random variable is -475.174, but must be nonnegative! (in 'pH_v2.stan', line 38, column 4 to column 41)\n",
      "\tException: lognormal_lpdf: Random variable is -2.77476, but must be nonnegative! (in 'pH_v2.stan', line 38, column 4 to column 41)\n",
      "\tException: lognormal_lpdf: Random variable is -0.00563992, but must be nonnegative! (in 'pH_v2.stan', line 38, column 4 to column 41)\n",
      "\tException: lognormal_lpdf: Random variable is -0.414924, but must be nonnegative! (in 'pH_v2.stan', line 38, column 4 to column 41)\n",
      "\tException: lognormal_lpdf: Random variable is -0.00401124, but must be nonnegative! (in 'pH_v2.stan', line 38, column 4 to column 41)\n",
      "\tException: lognormal_lpdf: Random variable is -0.00671233, but must be nonnegative! (in 'pH_v2.stan', line 38, column 4 to column 41)\n",
      "\tException: lognormal_lpdf: Random variable is -0.0317106, but must be nonnegative! (in 'pH_v2.stan', line 38, column 4 to column 41)\n",
      "\tException: lognormal_lpdf: Random variable is -0.00529937, but must be nonnegative! (in 'pH_v2.stan', line 38, column 4 to column 41)\n",
      "\tException: lognormal_lpdf: Random variable is -0.00060988, but must be nonnegative! (in 'pH_v2.stan', line 38, column 4 to column 41)\n",
      "\tException: lognormal_lpdf: Random variable is -0.00281166, but must be nonnegative! (in 'pH_v2.stan', line 38, column 4 to column 41)\n",
      "\tException: lognormal_lpdf: Random variable is -0.0282583, but must be nonnegative! (in 'pH_v2.stan', line 38, column 4 to column 41)\n",
      "\tException: lognormal_lpdf: Random variable is -0.000966448, but must be nonnegative! (in 'pH_v2.stan', line 38, column 4 to column 41)\n",
      "\tException: lognormal_lpdf: Random variable is -0.0443072, but must be nonnegative! (in 'pH_v2.stan', line 38, column 4 to column 41)\n",
      "\tException: lognormal_lpdf: Random variable is -0.00302508, but must be nonnegative! (in 'pH_v2.stan', line 38, column 4 to column 41)\n",
      "Exception: lognormal_lpdf: Random variable is -160.247, but must be nonnegative! (in 'pH_v2.stan', line 38, column 4 to column 41)\n",
      "\tException: lognormal_lpdf: Random variable is -161.934, but must be nonnegative! (in 'pH_v2.stan', line 38, column 4 to column 41)\n",
      "\tException: lognormal_lpdf: Random variable is -39.4685, but must be nonnegative! (in 'pH_v2.stan', line 38, column 4 to column 41)\n",
      "\tException: lognormal_lpdf: Random variable is -9.1555, but must be nonnegative! (in 'pH_v2.stan', line 38, column 4 to column 41)\n",
      "\tException: lognormal_lpdf: Random variable is -1.12724, but must be nonnegative! (in 'pH_v2.stan', line 38, column 4 to column 41)\n",
      "\tException: lognormal_lpdf: Random variable is -13873.9, but must be nonnegative! (in 'pH_v2.stan', line 38, column 4 to column 41)\n",
      "\tException: lognormal_lpdf: Random variable is -290.983, but must be nonnegative! (in 'pH_v2.stan', line 38, column 4 to column 41)\n",
      "\tException: lognormal_lpdf: Random variable is -1.55853, but must be nonnegative! (in 'pH_v2.stan', line 38, column 4 to column 41)\n",
      "\tException: lognormal_lpdf: Random variable is -0.00505455, but must be nonnegative! (in 'pH_v2.stan', line 38, column 4 to column 41)\n",
      "\tException: lognormal_lpdf: Random variable is -0.000821884, but must be nonnegative! (in 'pH_v2.stan', line 38, column 4 to column 41)\n",
      "\tException: lognormal_lpdf: Random variable is -0.0461173, but must be nonnegative! (in 'pH_v2.stan', line 38, column 4 to column 41)\n",
      "\tException: lognormal_lpdf: Random variable is -0.0124136, but must be nonnegative! (in 'pH_v2.stan', line 38, column 4 to column 41)\n",
      "\tException: lognormal_lpdf: Random variable is -0.001011, but must be nonnegative! (in 'pH_v2.stan', line 38, column 4 to column 41)\n",
      "\tException: lognormal_lpdf: Random variable is -0.00420292, but must be nonnegative! (in 'pH_v2.stan', line 38, column 4 to column 41)\n",
      "\tException: lognormal_lpdf: Random variable is -0.00830216, but must be nonnegative! (in 'pH_v2.stan', line 38, column 4 to column 41)\n",
      "\tException: lognormal_lpdf: Random variable is -0.0427965, but must be nonnegative! (in 'pH_v2.stan', line 38, column 4 to column 41)\n",
      "Consider re-running with show_console=True if the above output is unclear!\n"
     ]
    },
    {
     "name": "stdout",
     "output_type": "stream",
     "text": [
      "\n"
     ]
    }
   ],
   "source": [
    "mcmc_res = model.sample(data=prior_data)"
   ]
  },
  {
   "cell_type": "code",
   "execution_count": 17,
   "id": "188b0623",
   "metadata": {},
   "outputs": [
    {
     "name": "stdout",
     "output_type": "stream",
     "text": [
      "                        Mean      MCSE    StdDev          5%         50%  \\\n",
      "lp__             -308.608000  0.035157  1.408400 -311.347000 -308.263000   \n",
      "true_ph_ls          0.002301  0.001112  0.059133   -0.093926    0.000729   \n",
      "biological_noise    0.423788  0.000337  0.016801    0.397304    0.423259   \n",
      "bias                0.000097  0.000111  0.006261   -0.010154    0.000149   \n",
      "curr_err            0.010957  0.000016  0.001073    0.009311    0.010899   \n",
      "true_ph             6.915830  0.000097  0.005139    6.907470    6.915690   \n",
      "yrep                6.915400  0.000601  0.037838    6.853230    6.915210   \n",
      "\n",
      "                         95%    N_Eff  N_Eff/s     R_hat  \n",
      "lp__             -307.016000  1604.88  13047.8  1.002100  \n",
      "true_ph_ls          0.099875  2830.24  23010.1  1.000040  \n",
      "biological_noise    0.452822  2487.56  20224.1  1.000450  \n",
      "bias                0.010420  3172.11  25789.5  1.000310  \n",
      "curr_err            0.012815  4539.83  36909.2  0.999372  \n",
      "true_ph             6.924310  2829.67  23005.5  1.000040  \n",
      "yrep                6.976170  3967.55  32256.5  0.999711  \n",
      "Processing csv files: /tmp/tmprxv9hdvf/pH_v2r5cy3st7/pH_v2-20240630151545_1.csv, /tmp/tmprxv9hdvf/pH_v2r5cy3st7/pH_v2-20240630151545_2.csv, /tmp/tmprxv9hdvf/pH_v2r5cy3st7/pH_v2-20240630151545_3.csv, /tmp/tmprxv9hdvf/pH_v2r5cy3st7/pH_v2-20240630151545_4.csv\n",
      "\n",
      "Checking sampler transitions treedepth.\n",
      "Treedepth satisfactory for all transitions.\n",
      "\n",
      "Checking sampler transitions for divergences.\n",
      "No divergent transitions found.\n",
      "\n",
      "Checking E-BFMI - sampler transitions HMC potential energy.\n",
      "E-BFMI satisfactory.\n",
      "\n",
      "Effective sample size satisfactory.\n",
      "\n",
      "Split R-hat values satisfactory all parameters.\n",
      "\n",
      "Processing complete, no problems detected.\n",
      "\n"
     ]
    }
   ],
   "source": [
    "print(mcmc_res.summary())\n",
    "print(mcmc_res.diagnose())"
   ]
  },
  {
   "cell_type": "markdown",
   "id": "45074876",
   "metadata": {},
   "source": [
    "The disgnostics for the model look good. The R_hat is what we would expect, and we did not have nay divergent transitions."
   ]
  },
  {
   "cell_type": "markdown",
   "id": "6d68bd32",
   "metadata": {},
   "source": [
    "Now I will load the data and format it for plotting."
   ]
  },
  {
   "cell_type": "code",
   "execution_count": 18,
   "id": "f1d89a96",
   "metadata": {},
   "outputs": [],
   "source": [
    "idata = az.from_cmdstanpy(mcmc_res)\n",
    "\n",
    "idata.to_json(\"my_arviz_idata.json\")\n",
    "\n",
    "true_vals = idata.posterior.true_ph.values.flatten()\n",
    "sim_vals = idata.posterior.yrep.values.flatten()"
   ]
  },
  {
   "cell_type": "markdown",
   "id": "526fd4e8",
   "metadata": {},
   "source": [
    "# Plots"
   ]
  },
  {
   "cell_type": "code",
   "execution_count": 19,
   "id": "05e5c300",
   "metadata": {},
   "outputs": [
    {
     "data": {
      "text/plain": [
       "<matplotlib.legend.Legend at 0x7d1a27d46810>"
      ]
     },
     "execution_count": 19,
     "metadata": {},
     "output_type": "execute_result"
    },
    {
     "data": {
      "image/png": "[encoded data removed]",
      "text/plain": [
       "<Figure size 640x480 with 1 Axes>"
      ]
     },
     "metadata": {},
     "output_type": "display_data"
    }
   ],
   "source": [
    "w = 0.02\n",
    "\n",
    "plt.hist(sim_vals, label=\"Simulated measurements\", density=True, bins=np.arange(min(sim_vals), max(sim_vals) + w, w), alpha=0.5)\n",
    "plt.hist(measurements, label=\"True measurements\", density=True, bins=np.arange(min(measurements), max(measurements) + w, w), alpha=0.5)\n",
    "\n",
    "plt.legend()"
   ]
  },
  {
   "cell_type": "markdown",
   "id": "4a7f8fa0",
   "metadata": {},
   "source": [
    "In this previous plot we see the simulated measurements and the measurements we took in the experiment.\n",
    "\n",
    "Both sets of measurements look quite similar. There are 2 samples from our true measurements that are lower than we would expect, and we can see a small bump in density around pH 7.0 that we do not see in the simulated measurements, but overall we can conclude that the true measurements do not deviate from the expected data."
   ]
  },
  {
   "cell_type": "markdown",
   "id": "c912e5cd",
   "metadata": {},
   "source": [
    "Finally, I will plot the true pH values predicted by the model."
   ]
  },
  {
   "cell_type": "code",
   "execution_count": 20,
   "id": "f89a65fb",
   "metadata": {},
   "outputs": [
    {
     "data": {
      "text/plain": [
       "<Axes: title={'center': 'true_ph'}>"
      ]
     },
     "execution_count": 20,
     "metadata": {},
     "output_type": "execute_result"
    },
    {
     "data": {
      "image/png": "[encoded data removed]",
      "text/plain": [
       "<Figure size 640x480 with 1 Axes>"
      ]
     },
     "metadata": {},
     "output_type": "display_data"
    }
   ],
   "source": [
    "az.plot_posterior(idata.posterior.true_ph, kind=\"hist\", hdi_prob=\"hide\")"
   ]
  },
  {
   "cell_type": "markdown",
   "id": "7bd6a2c0",
   "metadata": {},
   "source": [
    "Our model indicates that the true values of our measurements are all very similar, with a constant pH at 6.9."
   ]
  }
 ],
 "metadata": {
  "kernelspec": {
   "display_name": "Python 3 (ipykernel)",
   "language": "python",
   "name": "python3"
  },
  "language_info": {
   "codemirror_mode": {
    "name": "ipython",
    "version": 3
   },
   "file_extension": ".py",
   "mimetype": "text/x-python",
   "name": "python",
   "nbconvert_exporter": "python",
   "pygments_lexer": "ipython3",
   "version": "3.12.4"
  }
 },
 "nbformat": 4,
 "nbformat_minor": 5
}
