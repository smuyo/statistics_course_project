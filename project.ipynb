{
 "cells": [
  {
   "cell_type": "markdown",
   "id": "f7446ce3",
   "metadata": {},
   "source": [
    "Sergi Muyo Abad         \n",
    "\n",
    "Student number: 222738"
   ]
  },
  {
   "cell_type": "markdown",
   "id": "b106979c",
   "metadata": {},
   "source": [
    "# Introduction\n",
    "\n",
    "In this project I will analyse a set of pH measurements. This measurements were taken in an experiment over the course of 3 days.\n",
    "\n",
    "The main aim of the project is to check whether the measurements vary between the different sampling tiems or are instead what we would expect from a stable culture.\n",
    "\n",
    "To do this I created a bayesian model thet can simulate more measurements, and calculate the expected real pH values of the sample by removing all the noise."
   ]
  },
  {
   "cell_type": "markdown",
   "id": "ea9869b8",
   "metadata": {},
   "source": [
    "# Code\n",
    "\n",
    "First I import all the packages I will need."
   ]
  },
  {
   "cell_type": "code",
   "execution_count": 2,
   "id": "c6c1cd03",
   "metadata": {},
   "outputs": [],
   "source": [
    "import numpy as np\n",
    "import pandas as pd\n",
    "from cmdstanpy import CmdStanModel\n",
    "import matplotlib.pyplot as plt\n",
    "import arviz as az\n",
    "from stanio.json import process_dictionary"
   ]
  },
  {
   "cell_type": "markdown",
   "id": "6fb2b191",
   "metadata": {},
   "source": [
    "Now I input some data for the simulations. This data comprises of:\n",
    "\n",
    "- num_samples: The number of pH measurments I have\n",
    "\n",
    "\n",
    "- measurements: The measured pH values\n",
    "\n",
    "- neutral: Neutral pH. We would expect the samples to have a pH similar to this\n",
    "\n",
    "- num_calibration: The number of calibration samples I have\n",
    "\n",
    "- cali_meas: The measured pH of the calibration samples\n",
    "\n",
    "- cali_real: The true pH of the calibration samples\n"
   ]
  },
  {
   "cell_type": "code",
   "execution_count": 3,
   "id": "cdaab1b8",
   "metadata": {},
   "outputs": [],
   "source": [
    "num_samples = 52\n",
    "measurements = [\n",
    "    6.55, 6.55, 6.96, 7.01, \n",
    "    6.92, 6.92, 6.94, 7.00, \n",
    "    6.91, 7.05, 6.98, 7, \n",
    "    6.91, 6.97, 6.92, 6.96, \n",
    "    7.00, 6.94, 6.88, 6.91, \n",
    "    6.89, 6.88, 6.92, 6.92, \n",
    "    6.92, 6.91, 6.90, 6.99, \n",
    "    6.96, 7.01, 6.9, 6.95, \n",
    "    6.89, 6.9, 6.89, 6.95, \n",
    "    6.88, 6.90, 6.93, 6.96, \n",
    "    6.94, 6.93, 6.94, 6.88, \n",
    "    6.88, 6.9, 6.86, 6.91, \n",
    "    6.88, 6.99, 6.92, 6.88\n",
    "    ]\n",
    "neutral = 7.0\n",
    "num_calibration = 3\n",
    "cali_meas = [3.98, 7.01, 9.01]\n",
    "cali_real = [4.00, 7.00, 9.00]"
   ]
  },
  {
   "cell_type": "markdown",
   "id": "11be0c52",
   "metadata": {},
   "source": [
    "# Model"
   ]
  },
  {
   "cell_type": "markdown",
   "id": "1635b42f",
   "metadata": {},
   "source": [
    "Now I load the model and input the prior data."
   ]
  },
  {
   "cell_type": "code",
   "execution_count": 4,
   "id": "92468c68",
   "metadata": {},
   "outputs": [],
   "source": [
    "model = CmdStanModel(stan_file=\"pH_v2.stan\")\n",
    "\n",
    "prior_data = process_dictionary({\n",
    "        \"N\": num_samples,\n",
    "        \"measurements\" : measurements,\n",
    "        \"ave\": neutral,\n",
    "        \"N_calibration_measurement\": num_calibration,\n",
    "        \"calibration_measurements\": cali_meas,\n",
    "        \"calibration_ph\": cali_real\n",
    "    }\n",
    ")"
   ]
  },
  {
   "cell_type": "markdown",
   "id": "577a814c",
   "metadata": {},
   "source": [
    "My model produces the measurement values with the following model:\n",
    "\n",
    "    measurement ~ N(pH + bias, curr_err + biological_noise)\n",
    "\n",
    "The parameters of the linear model are:\n",
    "\n",
    "- measurement: The measured pH value.\n",
    "\n",
    "- pH: The real pH value. For the samples it is assumed to be 7.0 (see variable \"neutral\")\n",
    "\n",
    "- bias. the calibration error. This calibration error is calculated using the calibration measurements, assuming that those measurements come from a normal distribution centered at the true pH of the calibration media, with a standard deviation equal to the calibration noise.\n",
    "\n",
    "- curr_err: The pH meter accuracy. This is calculated from a normal distribution centered at 0.01 and with a standard deviation of 0.1\n",
    "\n",
    "- biological_noise: This parameter accounts for biological noise. It is calculated from a lognormal distribution centered at 0.05, with a standard deviation of 0.1."
   ]
  },
  {
   "cell_type": "code",
   "execution_count": 5,
   "id": "ad35a27f",
   "metadata": {},
   "outputs": [
    {
     "name": "stdout",
     "output_type": "stream",
     "text": [
      "functions {\n",
      "  vector standardise(vector v, real m, real s) {\n",
      "    return (v - m) / s;\n",
      "  }\n",
      "  real standardise(real v, real m, real s) {\n",
      "    return (v - m) / s;\n",
      "  }\n",
      "  vector unstandardise(vector u, real m, real s) {\n",
      "    return m + u * s;\n",
      "  }\n",
      "  real unstandardise(real u, real m, real s) {\n",
      "    return m + u * s;\n",
      "  }\n",
      "}\n",
      "\n",
      "data {\n",
      "    int<lower=1> N;\n",
      "    int<lower=1> N_calibration_measurement;\n",
      "    vector[N] measurements;\n",
      "    vector[N_calibration_measurement] calibration_measurements;\n",
      "    vector[N_calibration_measurement] calibration_ph;\n",
      "    real ave;\n",
      "}\n",
      "\n",
      "transformed data {\n",
      "    vector[N] meas_ls = standardise(log(measurements), mean(log(measurements)), sd(log(measurements)));\n",
      "    real ave_ls = standardise(log(ave), mean(log(measurements)), sd(log(measurements)));\n",
      "}\n",
      "\n",
      "parameters {\n",
      "    real true_ph_ls;\n",
      "    real<lower=0> biological_noise;\n",
      "    real bias;\n",
      "    real curr_err;\n",
      "}\n",
      "\n",
      "model {\n",
      "    curr_err ~ lognormal(log(0.01), 0.1);\n",
      "    biological_noise ~ lognormal(log(0.05), 0.1);\n",
      "    meas_ls ~ normal(true_ph_ls + bias, curr_err + biological_noise);\n",
      "    calibration_measurements ~ normal(calibration_ph + bias, curr_err);\n",
      "}\n",
      "\n",
      "generated quantities {\n",
      "    real true_ph = exp(unstandardise(true_ph_ls, mean(log(measurements)), sd(log(measurements))));\n",
      "    real yrep = exp(unstandardise(normal_rng(true_ph_ls + bias, curr_err + biological_noise), mean(log(measurements)), sd(log(measurements))));\n",
      "}\n"
     ]
    }
   ],
   "source": [
    "print(model.code())"
   ]
  },
  {
   "cell_type": "code",
   "execution_count": 6,
   "id": "eb543e3b",
   "metadata": {},
   "outputs": [
    {
     "name": "stderr",
     "output_type": "stream",
     "text": [
      "15:44:12 - cmdstanpy - INFO - CmdStan start processing\n",
      "chain 1 |\u001b[33m          \u001b[0m| 00:00 Status\n",
      "\u001b[A\n",
      "\n",
      "chain 1 |\u001b[34m█████▉    \u001b[0m| 00:00 Iteration: 1001 / 2000 [ 50%]  (Sampling)\n",
      "\u001b[A\n",
      "\n",
      "chain 1 |\u001b[34m██████████\u001b[0m| 00:00 Sampling completed                       \n",
      "chain 2 |\u001b[34m██████████\u001b[0m| 00:00 Sampling completed                     \n",
      "chain 3 |\u001b[34m██████████\u001b[0m| 00:00 Sampling completed                       \n",
      "chain 4 |\u001b[34m██████████\u001b[0m| 00:00 Sampling completed                     "
     ]
    },
    {
     "name": "stdout",
     "output_type": "stream",
     "text": [
      "                                                                                                                                                                                                                                                "
     ]
    },
    {
     "name": "stderr",
     "output_type": "stream",
     "text": [
      "\n"
     ]
    },
    {
     "name": "stdout",
     "output_type": "stream",
     "text": [
      "                                                                                "
     ]
    },
    {
     "name": "stderr",
     "output_type": "stream",
     "text": [
      "15:44:13 - cmdstanpy - INFO - CmdStan done processing.\n",
      "15:44:13 - cmdstanpy - WARNING - Non-fatal error during sampling:\n",
      "Exception: lognormal_lpdf: Random variable is -218.005, but must be nonnegative! (in 'pH_v2.stan', line 38, column 4 to column 41)\n",
      "\tException: lognormal_lpdf: Random variable is -217.118, but must be nonnegative! (in 'pH_v2.stan', line 38, column 4 to column 41)\n",
      "\tException: lognormal_lpdf: Random variable is -52.8586, but must be nonnegative! (in 'pH_v2.stan', line 38, column 4 to column 41)\n",
      "\tException: lognormal_lpdf: Random variable is -12.5066, but must be nonnegative! (in 'pH_v2.stan', line 38, column 4 to column 41)\n",
      "\tException: lognormal_lpdf: Random variable is -2.37701, but must be nonnegative! (in 'pH_v2.stan', line 38, column 4 to column 41)\n",
      "\tException: lognormal_lpdf: Random variable is -12246, but must be nonnegative! (in 'pH_v2.stan', line 38, column 4 to column 41)\n",
      "\tException: lognormal_lpdf: Random variable is -235.882, but must be nonnegative! (in 'pH_v2.stan', line 38, column 4 to column 41)\n",
      "\tException: lognormal_lpdf: Random variable is -0.910924, but must be nonnegative! (in 'pH_v2.stan', line 38, column 4 to column 41)\n",
      "\tException: lognormal_lpdf: Random variable is -0.0711619, but must be nonnegative! (in 'pH_v2.stan', line 38, column 4 to column 41)\n",
      "\tException: lognormal_lpdf: Random variable is -0.00589079, but must be nonnegative! (in 'pH_v2.stan', line 38, column 4 to column 41)\n",
      "\tException: lognormal_lpdf: Random variable is -0.00174194, but must be nonnegative! (in 'pH_v2.stan', line 38, column 4 to column 41)\n",
      "\tException: lognormal_lpdf: Random variable is -0.00778868, but must be nonnegative! (in 'pH_v2.stan', line 38, column 4 to column 41)\n",
      "\tException: lognormal_lpdf: Random variable is -0.850364, but must be nonnegative! (in 'pH_v2.stan', line 38, column 4 to column 41)\n",
      "\tException: lognormal_lpdf: Random variable is -0.00229534, but must be nonnegative! (in 'pH_v2.stan', line 38, column 4 to column 41)\n",
      "\tException: lognormal_lpdf: Random variable is -0.000770245, but must be nonnegative! (in 'pH_v2.stan', line 38, column 4 to column 41)\n",
      "\tException: lognormal_lpdf: Random variable is -0.0514801, but must be nonnegative! (in 'pH_v2.stan', line 38, column 4 to column 41)\n",
      "\tException: lognormal_lpdf: Random variable is -0.0146514, but must be nonnegative! (in 'pH_v2.stan', line 38, column 4 to column 41)\n",
      "Exception: lognormal_lpdf: Random variable is -0.00667429, but must be nonnegative! (in 'pH_v2.stan', line 38, column 4 to column 41)\n",
      "\tException: lognormal_lpdf: Random variable is -0.00046715, but must be nonnegative! (in 'pH_v2.stan', line 38, column 4 to column 41)\n",
      "\tException: lognormal_lpdf: Random variable is -0.0131069, but must be nonnegative! (in 'pH_v2.stan', line 38, column 4 to column 41)\n",
      "\tException: lognormal_lpdf: Random variable is -0.00535211, but must be nonnegative! (in 'pH_v2.stan', line 38, column 4 to column 41)\n",
      "\tException: lognormal_lpdf: Random variable is -0.00414742, but must be nonnegative! (in 'pH_v2.stan', line 38, column 4 to column 41)\n",
      "\tException: lognormal_lpdf: Random variable is -0.0201754, but must be nonnegative! (in 'pH_v2.stan', line 38, column 4 to column 41)\n",
      "\tException: lognormal_lpdf: Random variable is -0.00362661, but must be nonnegative! (in 'pH_v2.stan', line 38, column 4 to column 41)\n",
      "\tException: lognormal_lpdf: Random variable is -0.0557619, but must be nonnegative! (in 'pH_v2.stan', line 38, column 4 to column 41)\n",
      "\tException: lognormal_lpdf: Random variable is -0.00441846, but must be nonnegative! (in 'pH_v2.stan', line 38, column 4 to column 41)\n",
      "\tException: lognormal_lpdf: Random variable is -0.000175035, but must be nonnegative! (in 'pH_v2.stan', line 38, column 4 to column 41)\n",
      "\tException: lognormal_lpdf: Random variable is -0.00531074, but must be nonnegative! (in 'pH_v2.stan', line 38, column 4 to column 41)\n",
      "\tException: lognormal_lpdf: Random variable is -0.0217511, but must be nonnegative! (in 'pH_v2.stan', line 38, column 4 to column 41)\n",
      "Exception: lognormal_lpdf: Random variable is -0.305956, but must be nonnegative! (in 'pH_v2.stan', line 38, column 4 to column 41)\n",
      "\tException: lognormal_lpdf: Random variable is -1.88684, but must be nonnegative! (in 'pH_v2.stan', line 38, column 4 to column 41)\n",
      "\tException: lognormal_lpdf: Random variable is -0.332894, but must be nonnegative! (in 'pH_v2.stan', line 38, column 4 to column 41)\n",
      "\tException: lognormal_lpdf: Random variable is -51.3624, but must be nonnegative! (in 'pH_v2.stan', line 38, column 4 to column 41)\n",
      "\tException: lognormal_lpdf: Random variable is -53.7112, but must be nonnegative! (in 'pH_v2.stan', line 38, column 4 to column 41)\n",
      "\tException: lognormal_lpdf: Random variable is -13.1436, but must be nonnegative! (in 'pH_v2.stan', line 38, column 4 to column 41)\n",
      "\tException: lognormal_lpdf: Random variable is -3.03029, but must be nonnegative! (in 'pH_v2.stan', line 38, column 4 to column 41)\n",
      "\tException: lognormal_lpdf: Random variable is -0.60899, but must be nonnegative! (in 'pH_v2.stan', line 38, column 4 to column 41)\n",
      "\tException: lognormal_lpdf: Random variable is -5329.92, but must be nonnegative! (in 'pH_v2.stan', line 38, column 4 to column 41)\n",
      "\tException: lognormal_lpdf: Random variable is -109.436, but must be nonnegative! (in 'pH_v2.stan', line 38, column 4 to column 41)\n",
      "\tException: lognormal_lpdf: Random variable is -0.634672, but must be nonnegative! (in 'pH_v2.stan', line 38, column 4 to column 41)\n",
      "\tException: lognormal_lpdf: Random variable is -0.00653052, but must be nonnegative! (in 'pH_v2.stan', line 38, column 4 to column 41)\n",
      "\tException: lognormal_lpdf: Random variable is -0.0593028, but must be nonnegative! (in 'pH_v2.stan', line 38, column 4 to column 41)\n",
      "\tException: lognormal_lpdf: Random variable is -0.00116604, but must be nonnegative! (in 'pH_v2.stan', line 38, column 4 to column 41)\n",
      "\tException: lognormal_lpdf: Random variable is -0.00575908, but must be nonnegative! (in 'pH_v2.stan', line 38, column 4 to column 41)\n",
      "\tException: lognormal_lpdf: Random variable is -0.000958854, but must be nonnegative! (in 'pH_v2.stan', line 38, column 4 to column 41)\n",
      "\tException: lognormal_lpdf: Random variable is -0.000825148, but must be nonnegative! (in 'pH_v2.stan', line 38, column 4 to column 41)\n",
      "\tException: lognormal_lpdf: Random variable is -0.000586856, but must be nonnegative! (in 'pH_v2.stan', line 38, column 4 to column 41)\n",
      "\tException: lognormal_lpdf: Random variable is -0.0384168, but must be nonnegative! (in 'pH_v2.stan', line 38, column 4 to column 41)\n",
      "\tException: lognormal_lpdf: Random variable is -0.0071509, but must be nonnegative! (in 'pH_v2.stan', line 38, column 4 to column 41)\n",
      "Exception: lognormal_lpdf: Random variable is -1.79842, but must be nonnegative! (in 'pH_v2.stan', line 38, column 4 to column 41)\n",
      "\tException: lognormal_lpdf: Random variable is -1.16604, but must be nonnegative! (in 'pH_v2.stan', line 38, column 4 to column 41)\n",
      "\tException: lognormal_lpdf: Random variable is -1.94782, but must be nonnegative! (in 'pH_v2.stan', line 38, column 4 to column 41)\n",
      "\tException: lognormal_lpdf: Random variable is -1.06909, but must be nonnegative! (in 'pH_v2.stan', line 38, column 4 to column 41)\n",
      "\tException: lognormal_lpdf: Random variable is -161.322, but must be nonnegative! (in 'pH_v2.stan', line 38, column 4 to column 41)\n",
      "\tException: lognormal_lpdf: Random variable is -161.94, but must be nonnegative! (in 'pH_v2.stan', line 38, column 4 to column 41)\n",
      "\tException: lognormal_lpdf: Random variable is -38.9269, but must be nonnegative! (in 'pH_v2.stan', line 38, column 4 to column 41)\n",
      "\tException: lognormal_lpdf: Random variable is -8.51107, but must be nonnegative! (in 'pH_v2.stan', line 38, column 4 to column 41)\n",
      "\tException: lognormal_lpdf: Random variable is -0.759784, but must be nonnegative! (in 'pH_v2.stan', line 38, column 4 to column 41)\n",
      "\tException: lognormal_lpdf: Random variable is -0.0568817, but must be nonnegative! (in 'pH_v2.stan', line 38, column 4 to column 41)\n",
      "\tException: lognormal_lpdf: Random variable is -1943.13, but must be nonnegative! (in 'pH_v2.stan', line 38, column 4 to column 41)\n",
      "\tException: lognormal_lpdf: Random variable is -21.6831, but must be nonnegative! (in 'pH_v2.stan', line 38, column 4 to column 41)\n",
      "\tException: lognormal_lpdf: Random variable is -0.271311, but must be nonnegative! (in 'pH_v2.stan', line 38, column 4 to column 41)\n",
      "\tException: lognormal_lpdf: Random variable is -0.00743674, but must be nonnegative! (in 'pH_v2.stan', line 38, column 4 to column 41)\n",
      "\tException: lognormal_lpdf: Random variable is -0.00487663, but must be nonnegative! (in 'pH_v2.stan', line 38, column 4 to column 41)\n",
      "\tException: lognormal_lpdf: Random variable is -0.000415613, but must be nonnegative! (in 'pH_v2.stan', line 38, column 4 to column 41)\n",
      "\tException: lognormal_lpdf: Random variable is -0.00697365, but must be nonnegative! (in 'pH_v2.stan', line 38, column 4 to column 41)\n",
      "\tException: lognormal_lpdf: Random variable is -0.00923865, but must be nonnegative! (in 'pH_v2.stan', line 38, column 4 to column 41)\n",
      "\tException: lognormal_lpdf: Random variable is -0.00367279, but must be nonnegative! (in 'pH_v2.stan', line 38, column 4 to column 41)\n",
      "\tException: lognormal_lpdf: Random variable is -0.0162794, but must be nonnegative! (in 'pH_v2.stan', line 38, column 4 to column 41)\n",
      "\tException: lognormal_lpdf: Random variable is -0.0119931, but must be nonnegative! (in 'pH_v2.stan', line 38, column 4 to column 41)\n",
      "\tException: lognormal_lpdf: Random variable is -0.187871, but must be nonnegative! (in 'pH_v2.stan', line 38, column 4 to column 41)\n",
      "\tException: lognormal_lpdf: Random variable is -0.0083788, but must be nonnegative! (in 'pH_v2.stan', line 38, column 4 to column 41)\n",
      "\tException: lognormal_lpdf: Random variable is -0.00449882, but must be nonnegative! (in 'pH_v2.stan', line 38, column 4 to column 41)\n",
      "\tException: lognormal_lpdf: Random variable is -0.00147511, but must be nonnegative! (in 'pH_v2.stan', line 38, column 4 to column 41)\n",
      "\tException: lognormal_lpdf: Random variable is -0.00842393, but must be nonnegative! (in 'pH_v2.stan', line 38, column 4 to column 41)\n",
      "Consider re-running with show_console=True if the above output is unclear!\n"
     ]
    },
    {
     "name": "stdout",
     "output_type": "stream",
     "text": [
      "\n"
     ]
    }
   ],
   "source": [
    "mcmc_res = model.sample(data=prior_data)"
   ]
  },
  {
   "cell_type": "code",
   "execution_count": 7,
   "id": "188b0623",
   "metadata": {},
   "outputs": [
    {
     "name": "stdout",
     "output_type": "stream",
     "text": [
      "                        Mean      MCSE    StdDev          5%         50%  \\\n",
      "lp__             -308.712000  0.037273  1.459580 -311.477000 -308.365000   \n",
      "true_ph_ls          0.000974  0.001199  0.061391   -0.099643    0.001999   \n",
      "biological_noise    0.424791  0.000326  0.016986    0.397680    0.424178   \n",
      "bias               -0.000149  0.000119  0.006483   -0.011099   -0.000371   \n",
      "curr_err            0.010974  0.000016  0.001095    0.009265    0.010931   \n",
      "true_ph             6.915710  0.000104  0.005335    6.906970    6.915800   \n",
      "yrep                6.916680  0.000600  0.037635    6.855270    6.916930   \n",
      "\n",
      "                         95%    N_Eff   N_Eff/s     R_hat  \n",
      "lp__             -307.051000  1533.47   7302.26  1.002350  \n",
      "true_ph_ls          0.104362  2620.21  12477.20  0.999730  \n",
      "biological_noise    0.453722  2711.89  12913.80  1.000610  \n",
      "bias                0.010325  2947.69  14036.60  1.001250  \n",
      "curr_err            0.012834  4477.12  21319.60  0.999847  \n",
      "true_ph             6.924700  2619.97  12476.10  0.999730  \n",
      "yrep                6.978100  3932.96  18728.40  0.999477  \n",
      "Processing csv files: /tmp/tmpr1kac7ib/pH_v2x0rrh8qj/pH_v2-20240630154412_1.csv, /tmp/tmpr1kac7ib/pH_v2x0rrh8qj/pH_v2-20240630154412_2.csv, /tmp/tmpr1kac7ib/pH_v2x0rrh8qj/pH_v2-20240630154412_3.csv, /tmp/tmpr1kac7ib/pH_v2x0rrh8qj/pH_v2-20240630154412_4.csv\n",
      "\n",
      "Checking sampler transitions treedepth.\n",
      "Treedepth satisfactory for all transitions.\n",
      "\n",
      "Checking sampler transitions for divergences.\n",
      "No divergent transitions found.\n",
      "\n",
      "Checking E-BFMI - sampler transitions HMC potential energy.\n",
      "E-BFMI satisfactory.\n",
      "\n",
      "Effective sample size satisfactory.\n",
      "\n",
      "Split R-hat values satisfactory all parameters.\n",
      "\n",
      "Processing complete, no problems detected.\n",
      "\n"
     ]
    }
   ],
   "source": [
    "print(mcmc_res.summary())\n",
    "print(mcmc_res.diagnose())"
   ]
  },
  {
   "cell_type": "markdown",
   "id": "45074876",
   "metadata": {},
   "source": [
    "The disgnostics for the model look good. The R_hat is what we would expect, and we did not have nay divergent transitions."
   ]
  },
  {
   "cell_type": "markdown",
   "id": "6d68bd32",
   "metadata": {},
   "source": [
    "Now I will load the data and format it for plotting."
   ]
  },
  {
   "cell_type": "code",
   "execution_count": 8,
   "id": "f1d89a96",
   "metadata": {},
   "outputs": [],
   "source": [
    "idata = az.from_cmdstanpy(mcmc_res)\n",
    "\n",
    "idata.to_json(\"my_arviz_idata.json\")\n",
    "\n",
    "true_vals = idata.posterior.true_ph.values.flatten()\n",
    "sim_vals = idata.posterior.yrep.values.flatten()"
   ]
  },
  {
   "cell_type": "markdown",
   "id": "526fd4e8",
   "metadata": {},
   "source": [
    "# Plots"
   ]
  },
  {
   "cell_type": "code",
   "execution_count": 9,
   "id": "05e5c300",
   "metadata": {},
   "outputs": [
    {
     "data": {
      "text/plain": [
       "<matplotlib.legend.Legend at 0x7b302831c650>"
      ]
     },
     "execution_count": 9,
     "metadata": {},
     "output_type": "execute_result"
    },
    {
     "data": {
      "image/png": "[encoded data removed]",
      "text/plain": [
       "<Figure size 640x480 with 1 Axes>"
      ]
     },
     "metadata": {},
     "output_type": "display_data"
    }
   ],
   "source": [
    "w = 0.02\n",
    "\n",
    "plt.hist(sim_vals, label=\"Simulated measurements\", density=True, bins=np.arange(min(sim_vals), max(sim_vals) + w, w), alpha=0.5)\n",
    "plt.hist(measurements, label=\"True measurements\", density=True, bins=np.arange(min(measurements), max(measurements) + w, w), alpha=0.5)\n",
    "\n",
    "plt.legend()"
   ]
  },
  {
   "cell_type": "markdown",
   "id": "4a7f8fa0",
   "metadata": {},
   "source": [
    "In this previous plot we see the simulated measurements and the measurements we took in the experiment.\n",
    "\n",
    "Both sets of measurements look quite similar. There are 2 samples from our true measurements that are lower than we would expect, and we can see a small bump in density around pH 7.0 that we do not see in the simulated measurements, but overall we can conclude that the true measurements do not deviate from the expected data."
   ]
  },
  {
   "cell_type": "markdown",
   "id": "c912e5cd",
   "metadata": {},
   "source": [
    "Finally, I will plot the true pH values predicted by the model."
   ]
  },
  {
   "cell_type": "code",
   "execution_count": 10,
   "id": "f89a65fb",
   "metadata": {},
   "outputs": [
    {
     "data": {
      "text/plain": [
       "<Axes: title={'center': 'true_ph'}>"
      ]
     },
     "execution_count": 10,
     "metadata": {},
     "output_type": "execute_result"
    },
    {
     "data": {
      "image/png": "[encoded data removed]",
      "text/plain": [
       "<Figure size 640x480 with 1 Axes>"
      ]
     },
     "metadata": {},
     "output_type": "display_data"
    }
   ],
   "source": [
    "az.plot_posterior(idata.posterior.true_ph, kind=\"hist\", hdi_prob=\"hide\")"
   ]
  },
  {
   "cell_type": "markdown",
   "id": "7bd6a2c0",
   "metadata": {},
   "source": [
    "Our model indicates that the true values of our measurements are all very similar, with a constant pH at 6.9."
   ]
  }
 ],
 "metadata": {
  "kernelspec": {
   "display_name": "Python 3 (ipykernel)",
   "language": "python",
   "name": "python3"
  },
  "language_info": {
   "codemirror_mode": {
    "name": "ipython",
    "version": 3
   },
   "file_extension": ".py",
   "mimetype": "text/x-python",
   "name": "python",
   "nbconvert_exporter": "python",
   "pygments_lexer": "ipython3",
   "version": "3.12.4"
  }
 },
 "nbformat": 4,
 "nbformat_minor": 5
}
